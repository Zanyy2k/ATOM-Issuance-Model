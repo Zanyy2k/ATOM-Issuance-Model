{
 "cells": [
  {
   "cell_type": "code",
   "execution_count": 13,
   "metadata": {},
   "outputs": [],
   "source": [
    "import pandas as pd\n",
    "import pprint\n",
    "pp = pprint.PrettyPrinter(indent=4)"
   ]
  },
  {
   "cell_type": "code",
   "execution_count": 31,
   "metadata": {},
   "outputs": [],
   "source": [
    "current_total_atom_supply = 300000000\n",
    "current_community_pool_balance = 1140000\n",
    "current_security_subsidy_rate = 13.5\n",
    "current_security_subsidy = (current_total_atom_supply * (current_security_subsidy_rate/100))/12\n",
    "security_subsidy_decay = 10\n",
    "security_subsidy_termination = 36 \n",
    "issuance = 10000000\n",
    "issuance_reduction_epoch_rate = 1\n",
    "issuance_reduction_amount = 12\n",
    "steady_state_issuance = 300000\n",
    "time_until_steady_state_issuance = 36\n",
    "distrbution_module_pct_to_community_pool = 5\n",
    "timeline_length = 38"
   ]
  },
  {
   "cell_type": "code",
   "execution_count": 32,
   "metadata": {},
   "outputs": [
    {
     "name": "stdout",
     "output_type": "stream",
     "text": [
      "300000000 3375000.0\n"
     ]
    }
   ],
   "source": [
    "print(current_total_atom_supply, current_security_subsidy)"
   ]
  },
  {
   "cell_type": "markdown",
   "metadata": {},
   "source": [
    "### Form the logic for each Category"
   ]
  },
  {
   "cell_type": "code",
   "execution_count": null,
   "metadata": {},
   "outputs": [],
   "source": [
    "# Outflow - Security Subsidy\n",
    "for month in range(timeline_length + 1):\n",
    "    if month > security_subsidy_termination : \n",
    "        print(0)\n",
    "    else: \n",
    "        print(current_security_subsidy * pow((1-security_subsidy_decay/100),month)*(1-distrbution_module_pct_to_community_pool/100))"
   ]
  },
  {
   "cell_type": "code",
   "execution_count": 60,
   "metadata": {},
   "outputs": [],
   "source": [
    "def calaculate_outflow_security_subsidy(month, security_subsidy_termination, current_security_subsidy, security_subsidy_decay, distrbution_module_pct_to_community_pool):\n",
    "    if month > security_subsidy_termination : \n",
    "        return 0\n",
    "    else: \n",
    "        return(current_security_subsidy * pow((1-security_subsidy_decay/100),month)*(1-distrbution_module_pct_to_community_pool/100))\n",
    "\n",
    "outflow_security_subsidy = calaculate_outflow_security_subsidy(month, security_subsidy_termination, current_security_subsidy, security_subsidy_decay, distrbution_module_pct_to_community_pool)\n"
   ]
  },
  {
   "cell_type": "code",
   "execution_count": null,
   "metadata": {},
   "outputs": [],
   "source": []
  },
  {
   "cell_type": "code",
   "execution_count": null,
   "metadata": {},
   "outputs": [],
   "source": [
    "# Outflow - Distribution to Community Pool\n",
    "for month in range(timeline_length + 1):\n",
    "    if month > security_subsidy_termination : \n",
    "        print(0)\n",
    "    else: \n",
    "        print(current_security_subsidy * pow((1-security_subsidy_decay/100),month)*(distrbution_module_pct_to_community_pool/100))\n"
   ]
  },
  {
   "cell_type": "code",
   "execution_count": 65,
   "metadata": {},
   "outputs": [],
   "source": [
    "def calaculate_outflow_distribution_community_pool(month, security_subsidy_termination, current_security_subsidy, security_subsidy_decay, distrbution_module_pct_to_community_pool):\n",
    "    if month > security_subsidy_termination : \n",
    "        return 0\n",
    "    else: \n",
    "        return(current_security_subsidy * pow((1-security_subsidy_decay/100),month)*(distrbution_module_pct_to_community_pool/100))\n",
    "    \n",
    "outflow_distribution_community_pool = calaculate_outflow_distribution_community_pool(month, security_subsidy_termination, current_security_subsidy, security_subsidy_decay, distrbution_module_pct_to_community_pool)\n"
   ]
  },
  {
   "cell_type": "code",
   "execution_count": null,
   "metadata": {},
   "outputs": [],
   "source": []
  },
  {
   "cell_type": "code",
   "execution_count": null,
   "metadata": {},
   "outputs": [],
   "source": [
    "# Inflow - Issued ATOM (new)\n",
    "for month in range(timeline_length + 1):\n",
    "    if month >= time_until_steady_state_issuance : \n",
    "        print(steady_state_issuance)\n",
    "    else: \n",
    "        print((issuance-200000) * pow((1-issuance_reduction_amount/100),month)+200000)"
   ]
  },
  {
   "cell_type": "code",
   "execution_count": 75,
   "metadata": {},
   "outputs": [],
   "source": [
    "def calaculate_inflow_issued_atom_new(month, time_until_steady_state_issuance, issuance, issuance_reduction_amount, steady_state_issuance):\n",
    "    if month >= time_until_steady_state_issuance : \n",
    "        return steady_state_issuance\n",
    "    else: \n",
    "        return((issuance-200000) * pow((1-issuance_reduction_amount/100),month)+200000)\n",
    "    \n",
    "inflow_issued_atom_new = calaculate_inflow_issued_atom_new(month, time_until_steady_state_issuance, issuance, issuance_reduction_amount, steady_state_issuance)\n"
   ]
  },
  {
   "cell_type": "code",
   "execution_count": null,
   "metadata": {},
   "outputs": [],
   "source": []
  },
  {
   "cell_type": "code",
   "execution_count": 78,
   "metadata": {},
   "outputs": [],
   "source": [
    "# Total\t- Treasury Pool Balance\n",
    "    \n",
    "def calaculate_total_treasury_pool_balance(outflow_distribution_community_pool, outflow_security_subsidy, inflow_issued_atom_new):\n",
    "    total_outflow = outflow_distribution_community_pool + outflow_security_subsidy\n",
    "    total_treasury_pool_balance = inflow_issued_atom_new - total_outflow\n",
    "    return total_treasury_pool_balance\n",
    "\n",
    "total_treasury_pool_balance = calaculate_total_treasury_pool_balance(outflow_distribution_community_pool, outflow_security_subsidy, inflow_issued_atom_new)"
   ]
  },
  {
   "cell_type": "code",
   "execution_count": null,
   "metadata": {},
   "outputs": [],
   "source": []
  },
  {
   "cell_type": "code",
   "execution_count": null,
   "metadata": {},
   "outputs": [],
   "source": [
    "# Total\tCommunity Pool Balance\n",
    "current_total_comm_pool = current_community_pool_balance\n",
    "for month in range(timeline_length + 1):\n",
    "    if month > security_subsidy_termination : \n",
    "        distributed_comm_pool = 0\n",
    "    else: \n",
    "        distributed_comm_pool = current_security_subsidy * pow((1-security_subsidy_decay/100),month)*(distrbution_module_pct_to_community_pool/100)\n",
    "    \n",
    "    current_total_comm_pool += distributed_comm_pool\n",
    "    print(current_total_comm_pool)"
   ]
  },
  {
   "cell_type": "code",
   "execution_count": null,
   "metadata": {},
   "outputs": [],
   "source": []
  },
  {
   "cell_type": "code",
   "execution_count": null,
   "metadata": {},
   "outputs": [],
   "source": [
    "# Total\t- Cumulatively Issued ATOM (new)\n",
    "total_issued = 0\n",
    "\n",
    "for month in range(timeline_length + 1):\n",
    "    if month >= time_until_steady_state_issuance : \n",
    "        issued = (steady_state_issuance)\n",
    "    else: \n",
    "        issued = ((issuance-200000) * pow((1-issuance_reduction_amount/100),month)+200000)\n",
    "\n",
    "    total_issued +=  issued\n",
    "    print(total_issued)"
   ]
  },
  {
   "cell_type": "code",
   "execution_count": null,
   "metadata": {},
   "outputs": [],
   "source": [
    "# Total - Total ATOM Supply\n",
    "total_atom_supply = current_total_atom_supply\n",
    "\n",
    "for month in range(timeline_length + 1):\n",
    "    if month >= time_until_steady_state_issuance : \n",
    "        issued_supply = (steady_state_issuance)\n",
    "    else: \n",
    "        issued_supply = (issuance-200000) * pow((1-issuance_reduction_amount/100),month)+200000\n",
    "\n",
    "    total_atom_supply += issued_supply\n",
    "    print('\\nMonth ', month, ' : ', total_atom_supply)"
   ]
  },
  {
   "cell_type": "code",
   "execution_count": null,
   "metadata": {},
   "outputs": [],
   "source": [
    "# Old_Regime \n",
    "total_atom_supply_old = current_total_atom_supply\n",
    "issued_atom_old = 0\n",
    "cumulatively_issued_atom_old = issued_atom_old\n",
    "\n",
    "for month in range(timeline_length + 1):\n",
    "    total_atom_supply_old += issued_atom_old\n",
    "    issued_atom_old = total_atom_supply_old*current_security_subsidy_rate/100/12\n",
    "    cumulatively_issued_atom_old += issued_atom_old\n",
    "\n",
    "\n",
    "    print('\\nMonth : ', month, '\\ntotal_atom_supply_old : ', total_atom_supply_old, '\\n', 'issued_atom_old : ', issued_atom_old, '\\n', 'cumulatively_issued_atom_old : ', cumulatively_issued_atom_old )"
   ]
  },
  {
   "cell_type": "markdown",
   "metadata": {},
   "source": [
    "### Combine the logics into one function"
   ]
  },
  {
   "cell_type": "code",
   "execution_count": 82,
   "metadata": {},
   "outputs": [
    {
     "name": "stdout",
     "output_type": "stream",
     "text": [
      "0 3206250.0 168750.0 10000000.0 6625000.0 1308750.0\n",
      "1 2885625.0 151875.0 8824000.0 12411500.0 1460625.0\n",
      "2 2597062.5 136687.5 7789120.0 17466870.0 1597312.5\n",
      "3 2337356.2500000005 123018.75000000003 6878425.6 21884920.6 1720331.25\n",
      "4 2103620.625 110716.875 6077014.528 25747597.628000002 1831048.125\n",
      "5 1893258.5625000002 99645.18750000001 5371772.78464 29126466.66264 1930693.3125\n",
      "6 1703932.70625 89680.66875000001 4751160.050483201 32084013.338123202 2020373.98125\n",
      "7 1533539.4356250002 80712.60187500002 4205020.844425216 34674782.14504842 2101086.583125\n",
      "8 1380185.4920625002 72641.34168750001 3724418.34309419 36946373.65439261 2173727.9248125\n",
      "9 1242166.94285625 65377.207518750016 3301488.1419228874 38940317.6459405 2239105.13233125\n",
      "10 1117950.2485706252 58839.486766875016 2929309.564892141 40692837.47549514 2297944.6190981246\n",
      "11 1006155.2237135626 52955.53809018751 2601792.4171050843 42235519.13079647 2350900.157188312\n",
      "12 905539.7013422066 47659.98428116877 2313577.327052474 43595896.772225566 2398560.141469481\n",
      "13 814985.7312079859 42893.98585305189 2059948.047806177 44797965.102970704 2441454.1273225327\n",
      "14 733487.1580871873 38604.587267746705 1836754.2820694358 45862627.639685206 2480058.7145902794\n",
      "15 660138.4422784686 34744.12854097204 1640343.7682211036 46808088.83708687 2514802.8431312516\n",
      "16 594124.5980506217 31269.715686874828 1467502.516034571 47650197.03938395 2546072.5588181266\n",
      "17 534712.1382455596 28142.74411818735 1315402.2141104226 48402744.37113062 2574215.302936314\n",
      "18 481240.9244210036 25328.469706368614 1181553.9484171718 49077728.925420426 2599543.772642683\n",
      "19 433116.8319789033 22795.622735731755 1063767.4746071112 49685583.9453129 2622339.3953784145\n",
      "20 389805.148781013 20516.06046215858 960115.3776542579 50235378.113723986 2642855.455840573\n",
      "21 350824.6339029117 18464.45441594272 868901.5323357469 50734990.55774088 2661319.9102565157\n",
      "22 315742.1705126205 16618.00897434845 788633.3484554574 51191263.72670937 2677937.9192308644\n",
      "23 284167.9534613585 14956.208076913606 717997.3466408025 51610136.9118119 2692894.1273077778\n",
      "24 255751.15811522264 13460.587269222246 655837.6650439062 51996762.83147136 2706354.714577\n",
      "25 230176.04230370038 12114.52854230002 601137.1452386375 52355609.405864 2718469.2431193003\n",
      "26 207158.43807333033 10903.07568807002 553000.687810001 52690548.5799126 2729372.3188073705\n",
      "27 186442.5942659973 9812.768119263017 510640.60527280084 53004933.822800145 2739185.0869266335\n",
      "28 167798.3348393976 8831.491307336717 473363.7326400647 53301667.72929347 2748016.5782339703\n",
      "29 151018.50135545785 7948.342176603044 440560.084723257 53583260.97048467 2755964.9204105735\n",
      "30 135916.65121991208 7153.5079589427405 411692.8745564661 53851883.68586228 2763118.428369516\n",
      "31 122324.98609792086 6438.157163048467 386289.72960969014 54109410.272211 2769556.5855325647\n",
      "32 110092.48748812875 5794.34144674362 363934.9620565274 54357458.405332655 2775350.9269793085\n",
      "33 99083.23873931589 5214.907302069258 344262.76660974405 54597423.02590101 2780565.834281378\n",
      "34 89174.9148653843 4693.416571862333 326951.23461657483 54830505.92908034 2785259.2508532405\n",
      "35 80257.42337884587 4224.074914676099 311717.08646258584 55057741.5172494 2789483.3257679166\n",
      "36 72231.6810409613 3801.6674232084897 300000 55281708.16878523 2793284.9931911253\n",
      "37 0 0 300000 55581708.16878523 2793284.9931911253\n",
      "38 0 0 300000 55881708.16878523 2793284.9931911253\n"
     ]
    }
   ],
   "source": [
    "total_treasury_pool_balance = 0\n",
    "current_total_comm_pool = current_community_pool_balance\n",
    "\n",
    "for month in range(timeline_length + 1):\n",
    "    outflow_security_subsidy = calaculate_outflow_security_subsidy(month, security_subsidy_termination, current_security_subsidy, security_subsidy_decay, distrbution_module_pct_to_community_pool)\n",
    "    outflow_distribution_community_pool = calaculate_outflow_distribution_community_pool(month, security_subsidy_termination, current_security_subsidy, security_subsidy_decay, distrbution_module_pct_to_community_pool)\n",
    "    inflow_issued_atom_new = calaculate_inflow_issued_atom_new(month, time_until_steady_state_issuance, issuance, issuance_reduction_amount, steady_state_issuance)\n",
    "    total_treasury_pool_balance += calaculate_total_treasury_pool_balance(outflow_distribution_community_pool, outflow_security_subsidy, inflow_issued_atom_new)\n",
    "    current_total_comm_pool += outflow_distribution_community_pool\n",
    "    \n",
    "\n",
    "\n",
    "\n",
    "    print(month, outflow_security_subsidy, outflow_distribution_community_pool, inflow_issued_atom_new, total_treasury_pool_balance, current_total_comm_pool)"
   ]
  },
  {
   "cell_type": "code",
   "execution_count": null,
   "metadata": {},
   "outputs": [],
   "source": []
  },
  {
   "cell_type": "code",
   "execution_count": null,
   "metadata": {},
   "outputs": [],
   "source": []
  },
  {
   "cell_type": "code",
   "execution_count": null,
   "metadata": {},
   "outputs": [],
   "source": []
  },
  {
   "cell_type": "code",
   "execution_count": null,
   "metadata": {},
   "outputs": [],
   "source": []
  },
  {
   "cell_type": "code",
   "execution_count": null,
   "metadata": {},
   "outputs": [],
   "source": []
  },
  {
   "cell_type": "markdown",
   "metadata": {},
   "source": [
    "### Populate the result into a table"
   ]
  },
  {
   "cell_type": "code",
   "execution_count": 26,
   "metadata": {},
   "outputs": [
    {
     "name": "stdout",
     "output_type": "stream",
     "text": [
      "{   'Inflow': ['Issued ATOM (new)'],\n",
      "    'Old_Regime': [   'Total ATOM Supply (old)',\n",
      "                      'Issued ATOM (old)',\n",
      "                      'Cumulatively Issued ATOM (old)'],\n",
      "    'Outflow': ['Security Subsidy', 'Distribution to Community Pool'],\n",
      "    'Total': [   'Treasury Pool Balance',\n",
      "                 'Community Pool Balance',\n",
      "                 'Cumulatively Issued ATOM (new)',\n",
      "                 'Total ATOM Supply']}\n"
     ]
    }
   ],
   "source": [
    "category_dict = {}\n",
    "category_dict['Outflow'] = [\"Security Subsidy\", \"Distribution to Community Pool\"] \n",
    "category_dict['Inflow'] = ['Issued ATOM (new)']\n",
    "category_dict['Total'] = ['Treasury Pool Balance', 'Community Pool Balance', 'Cumulatively Issued ATOM (new)', 'Total ATOM Supply']\n",
    "category_dict['Old_Regime'] = ['Total ATOM Supply (old)', 'Issued ATOM (old)', 'Cumulatively Issued ATOM (old)']\n",
    "\n",
    "pp.pprint(category_dict) "
   ]
  },
  {
   "cell_type": "code",
   "execution_count": 20,
   "metadata": {},
   "outputs": [],
   "source": [
    "table = [['Category', 'Month', '0']]"
   ]
  },
  {
   "cell_type": "code",
   "execution_count": 22,
   "metadata": {},
   "outputs": [],
   "source": [
    "# Populate the table based on the category_dict and timeline_length\n",
    "for category, subcategories in category_dict.items():\n",
    "    for subcategory in subcategories:\n",
    "        for i in range(timeline_length + 1):\n",
    "            table.append([category, subcategory, i])"
   ]
  },
  {
   "cell_type": "code",
   "execution_count": null,
   "metadata": {},
   "outputs": [],
   "source": []
  },
  {
   "cell_type": "code",
   "execution_count": null,
   "metadata": {},
   "outputs": [],
   "source": []
  },
  {
   "cell_type": "code",
   "execution_count": null,
   "metadata": {},
   "outputs": [],
   "source": []
  },
  {
   "cell_type": "code",
   "execution_count": null,
   "metadata": {},
   "outputs": [],
   "source": [
    "   <!-- <div id=\"chart\"></div> -->\n",
    "\n",
    "    <!-- Include Plotly.js -->\n",
    "    <!-- <script src=\"https://cdn.plot.ly/plotly-latest.min.js\"></script> -->\n",
    "\n",
    "    <!-- Render the chart using the JSON data -->\n",
    "    <!-- <script>\n",
    "        var chartData = {{ chart_data | tojson | safe }};\n",
    "        Plotly.newPlot('chart', JSON.parse(chartData), {});\n",
    "    </script> -->"
   ]
  }
 ],
 "metadata": {
  "kernelspec": {
   "display_name": "Python 3",
   "language": "python",
   "name": "python3"
  },
  "language_info": {
   "codemirror_mode": {
    "name": "ipython",
    "version": 3
   },
   "file_extension": ".py",
   "mimetype": "text/x-python",
   "name": "python",
   "nbconvert_exporter": "python",
   "pygments_lexer": "ipython3",
   "version": "3.9.6"
  }
 },
 "nbformat": 4,
 "nbformat_minor": 2
}

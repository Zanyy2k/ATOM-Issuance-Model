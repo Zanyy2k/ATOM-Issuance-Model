{
 "cells": [
  {
   "cell_type": "code",
   "execution_count": 1,
   "metadata": {},
   "outputs": [],
   "source": [
    "import pandas as pd\n",
    "import plotly.express as px\n",
    "import pprint\n",
    "pp = pprint.PrettyPrinter(indent=4)"
   ]
  },
  {
   "cell_type": "code",
   "execution_count": 36,
   "metadata": {},
   "outputs": [],
   "source": [
    "current_total_atom_supply = 300000000\n",
    "current_community_pool_balance = 1140000\n",
    "current_security_subsidy_rate = 13.5\n",
    "current_security_subsidy = (current_total_atom_supply * (current_security_subsidy_rate/100))/12\n",
    "security_subsidy_decay = 10\n",
    "security_subsidy_termination = 36 \n",
    "issuance = 10000000\n",
    "issuance_reduction_epoch_rate = 1\n",
    "issuance_reduction_amount = 12\n",
    "steady_state_issuance = 300000\n",
    "time_until_steady_state_issuance = 36\n",
    "distrbution_module_pct_to_community_pool = 5\n",
    "timeline_length = 60"
   ]
  },
  {
   "cell_type": "markdown",
   "metadata": {},
   "source": [
    "### Form the logic for each Category"
   ]
  },
  {
   "cell_type": "code",
   "execution_count": 5,
   "metadata": {},
   "outputs": [],
   "source": [
    "# Outflow - Security Subsidy\n",
    "def calculate_outflow_security_subsidy(month, security_subsidy_termination, current_security_subsidy, security_subsidy_decay, distrbution_module_pct_to_community_pool):\n",
    "    if month > security_subsidy_termination : \n",
    "        return 0\n",
    "    else: \n",
    "        return(current_security_subsidy * pow((1-security_subsidy_decay/100),month)*(1-distrbution_module_pct_to_community_pool/100))\n",
    "\n",
    "# outflow_security_subsidy = calculate_outflow_security_subsidy(month, security_subsidy_termination, current_security_subsidy, security_subsidy_decay, distrbution_module_pct_to_community_pool)\n"
   ]
  },
  {
   "cell_type": "code",
   "execution_count": 6,
   "metadata": {},
   "outputs": [],
   "source": [
    "# Outflow - Distribution to Community Pool\n",
    "def calculate_outflow_distribution_community_pool(month, security_subsidy_termination, current_security_subsidy, security_subsidy_decay, distrbution_module_pct_to_community_pool):\n",
    "    if month > security_subsidy_termination : \n",
    "        return 0\n",
    "    else: \n",
    "        return(current_security_subsidy * pow((1-security_subsidy_decay/100),month)*(distrbution_module_pct_to_community_pool/100))\n",
    "    \n",
    "# outflow_distribution_community_pool = calculate_outflow_distribution_community_pool(month, security_subsidy_termination, current_security_subsidy, security_subsidy_decay, distrbution_module_pct_to_community_pool)\n"
   ]
  },
  {
   "cell_type": "code",
   "execution_count": 7,
   "metadata": {},
   "outputs": [],
   "source": [
    "# Inflow - Issued ATOM (new)\n",
    "def calculate_inflow_issued_atom_new(month, time_until_steady_state_issuance, issuance, issuance_reduction_amount, steady_state_issuance):\n",
    "    if month >= time_until_steady_state_issuance : \n",
    "        return steady_state_issuance\n",
    "    else: \n",
    "        return((issuance-200000) * pow((1-issuance_reduction_amount/100),month)+200000)\n",
    "    \n",
    "# inflow_issued_atom_new = calculate_inflow_issued_atom_new(month, time_until_steady_state_issuance, issuance, issuance_reduction_amount, steady_state_issuance)\n"
   ]
  },
  {
   "cell_type": "code",
   "execution_count": 8,
   "metadata": {},
   "outputs": [],
   "source": [
    "# Total\t- Treasury Pool Balance\n",
    "    \n",
    "def calculate_total_treasury_pool_balance(outflow_distribution_community_pool, outflow_security_subsidy, inflow_issued_atom_new):\n",
    "    total_outflow = outflow_distribution_community_pool + outflow_security_subsidy\n",
    "    total_treasury_pool_balance = inflow_issued_atom_new - total_outflow\n",
    "    return total_treasury_pool_balance\n",
    "\n",
    "# total_treasury_pool_balance = calculate_total_treasury_pool_balance(outflow_distribution_community_pool, outflow_security_subsidy, inflow_issued_atom_new)"
   ]
  },
  {
   "cell_type": "code",
   "execution_count": null,
   "metadata": {},
   "outputs": [],
   "source": [
    "# Total\tCommunity Pool Balance\n",
    "current_total_comm_pool = current_community_pool_balance\n",
    "for month in range(timeline_length + 1):\n",
    "    if month > security_subsidy_termination : \n",
    "        distributed_comm_pool = 0\n",
    "    else: \n",
    "        distributed_comm_pool = current_security_subsidy * pow((1-security_subsidy_decay/100),month)*(distrbution_module_pct_to_community_pool/100)\n",
    "    \n",
    "    current_total_comm_pool += distributed_comm_pool\n",
    "    print(current_total_comm_pool)"
   ]
  },
  {
   "cell_type": "code",
   "execution_count": 30,
   "metadata": {},
   "outputs": [],
   "source": [
    "# Total\t- Cumulatively Issued ATOM (new)\n",
    "total_cumulatively_issued_atom_new = 0\n",
    "# total_cumulatively_issued_atom_new += calculate_inflow_issued_atom_new"
   ]
  },
  {
   "cell_type": "code",
   "execution_count": null,
   "metadata": {},
   "outputs": [],
   "source": [
    "# Total - Total ATOM Supply\n",
    "total_atom_supply = current_total_atom_supply\n",
    "\n",
    "for month in range(timeline_length + 1):\n",
    "    if month >= time_until_steady_state_issuance : \n",
    "        issued_supply = (steady_state_issuance)\n",
    "    else: \n",
    "        issued_supply = (issuance-200000) * pow((1-issuance_reduction_amount/100),month)+200000\n",
    "\n",
    "    total_atom_supply += issued_supply\n",
    "    print('\\nMonth ', month, ' : ', total_atom_supply)"
   ]
  },
  {
   "cell_type": "code",
   "execution_count": 10,
   "metadata": {},
   "outputs": [],
   "source": [
    "total_atom_supply = current_total_atom_supply\n",
    "\n",
    "def calculate_total_atom_supply(total_atom_supply,inflow_issued_atom_new ):\n",
    "    total_atom_supply += inflow_issued_atom_new\n",
    "    return total_atom_supply"
   ]
  },
  {
   "cell_type": "code",
   "execution_count": 11,
   "metadata": {},
   "outputs": [],
   "source": [
    "# Old_Regime \n",
    "total_atom_supply_old = current_total_atom_supply\n",
    "issued_atom_old = 0\n",
    "cumulatively_issued_atom_old = issued_atom_old\n",
    "\n",
    "def calculate_old_regime(total_atom_supply_old, issued_atom_old, cumulatively_issued_atom_old, current_security_subsidy_rate):\n",
    "    total_atom_supply_old += issued_atom_old\n",
    "    issued_atom_old = total_atom_supply_old*current_security_subsidy_rate/100/12\n",
    "    cumulatively_issued_atom_old += issued_atom_old\n",
    "    return (total_atom_supply_old, issued_atom_old, cumulatively_issued_atom_old)\n"
   ]
  },
  {
   "cell_type": "code",
   "execution_count": null,
   "metadata": {},
   "outputs": [],
   "source": [
    " "
   ]
  },
  {
   "cell_type": "markdown",
   "metadata": {},
   "source": [
    "### Combine the logics into one function"
   ]
  },
  {
   "cell_type": "code",
   "execution_count": 31,
   "metadata": {},
   "outputs": [
    {
     "name": "stdout",
     "output_type": "stream",
     "text": [
      "0 3206250.0 168750.0 10000000.0 6625000.0 1308750.0 10000000.0 310000000.0 300000000 3375000.0 3375000.0\n",
      "1 2885625.0 151875.0 8824000.0 12411500.0 1460625.0 18824000.0 318824000.0 303375000.0 3412968.75 6787968.75\n",
      "2 2597062.5 136687.5 7789120.0 17466870.0 1597312.5 26613120.0 326613120.0 306787968.75 3451364.6484375 10239333.3984375\n",
      "3 2337356.2500000005 123018.75000000003 6878425.6 21884920.6 1720331.25 33491545.6 333491545.6 310239333.3984375 3490192.500732422 13729525.899169922\n",
      "4 2103620.625 110716.875 6077014.528 25747597.628000002 1831048.125 39568560.128 339568560.128 313729525.8991699 3529457.166365661 17258983.065535583\n",
      "5 1893258.5625000002 99645.18750000001 5371772.78464 29126466.66264 1930693.3125 44940332.91264 344940332.91264004 317258983.0655356 3569163.559487276 20828146.62502286\n",
      "6 1703932.70625 89680.66875000001 4751160.050483201 32084013.338123202 2020373.98125 49691492.9631232 349691492.96312326 320828146.6250229 3609316.6495315074 24437463.274554364\n",
      "7 1533539.4356250002 80712.60187500002 4205020.844425216 34674782.14504842 2101086.583125 53896513.80754842 353896513.80754846 324437463.2745544 3649921.4618387367 28087384.7363931\n",
      "8 1380185.4920625002 72641.34168750001 3724418.34309419 36946373.65439261 2173727.9248125 57620932.15064261 357620932.15064263 328087384.7363931 3690983.0782844224 31778367.814677525\n",
      "9 1242166.94285625 65377.207518750016 3301488.1419228874 38940317.6459405 2239105.13233125 60922420.292565495 360922420.2925655 331778367.81467754 3732506.637915123 35510874.45259265\n",
      "10 1117950.2485706252 58839.486766875016 2929309.564892141 40692837.47549514 2297944.6190981246 63851729.85745764 363851729.85745764 335510874.4525927 3774497.337591667 39285371.79018432\n",
      "11 1006155.2237135626 52955.53809018751 2601792.4171050843 42235519.13079647 2350900.157188312 66453522.274562724 366453522.2745627 339285371.7901843 3816960.4326395732 43102332.222823896\n",
      "12 905539.7013422066 47659.98428116877 2313577.327052474 43595896.772225566 2398560.141469481 68767099.60161519 368767099.6016152 343102332.2228239 3859901.237506769 46962233.460330665\n",
      "13 814985.7312079859 42893.98585305189 2059948.047806177 44797965.102970704 2441454.1273225327 70827047.64942136 370827047.6494214 346962233.46033067 3903325.12642872 50865558.58675939\n",
      "14 733487.1580871873 38604.587267746705 1836754.2820694358 45862627.639685206 2480058.7145902794 72663801.9314908 372663801.93149084 350865558.5867594 3947237.534101043 54812796.12086043\n",
      "15 660138.4422784686 34744.12854097204 1640343.7682211036 46808088.83708687 2514802.8431312516 74304145.6997119 374304145.6997119 354812796.12086046 3991643.9563596807 58804440.07722011\n",
      "16 594124.5980506217 31269.715686874828 1467502.516034571 47650197.03938395 2546072.5588181266 75771648.21574648 375771648.21574646 358804440.07722014 4036549.9508687262 62840990.02808884\n",
      "17 534712.1382455596 28142.74411818735 1315402.2141104226 48402744.37113062 2574215.302936314 77087050.4298569 377087050.4298569 362840990.02808887 4081961.1378160003 66922951.165904835\n",
      "18 481240.9244210036 25328.469706368614 1181553.9484171718 49077728.925420426 2599543.772642683 78268604.37827407 378268604.3782741 366922951.1659049 4127883.20061643 71050834.36652127\n",
      "19 433116.8319789033 22795.622735731755 1063767.4746071112 49685583.9453129 2622339.3953784145 79332371.85288118 379332371.8528812 371050834.3665213 4174321.8866233644 75225156.25314464\n",
      "20 389805.148781013 20516.06046215858 960115.3776542579 50235378.113723986 2642855.455840573 80292487.23053543 380292487.23053545 375225156.2531447 4221283.007847877 79446439.26099251\n",
      "21 350824.6339029117 18464.45441594272 868901.5323357469 50734990.55774088 2661319.9102565157 81161388.76287118 381161388.7628712 379446439.2609926 4268772.441686167 83715211.70267868\n",
      "22 315742.1705126205 16618.00897434845 788633.3484554574 51191263.72670937 2677937.9192308644 81950022.11132663 381950022.11132663 383715211.70267874 4316796.131655136 88032007.83433382\n",
      "23 284167.9534613585 14956.208076913606 717997.3466408025 51610136.9118119 2692894.1273077778 82668019.45796743 382668019.45796746 388032007.8343339 4365360.088136257 92397367.92247008\n",
      "24 255751.15811522264 13460.587269222246 655837.6650439062 51996762.83147136 2706354.714577 83323857.12301134 383323857.12301135 392397367.92247015 4414470.389127789 96811838.31159787\n",
      "25 230176.04230370038 12114.52854230002 601137.1452386375 52355609.405864 2718469.2431193003 83924994.26824997 383924994.26825 396811838.31159794 4464133.181005477 101275971.49260335\n",
      "26 207158.43807333033 10903.07568807002 553000.687810001 52690548.5799126 2729372.3188073705 84477994.95605998 384477994.95606 401275971.4926034 4514354.6792917885 105790326.17189513\n",
      "27 186442.5942659973 9812.768119263017 510640.60527280084 53004933.822800145 2739185.0869266335 84988635.56133278 384988635.5613328 405790326.1718952 4565141.169433821 110355467.34132895\n",
      "28 167798.3348393976 8831.491307336717 473363.7326400647 53301667.72929347 2748016.5782339703 85461999.29397283 385461999.2939729 410355467.34132904 4616499.007589951 114971966.3489189\n",
      "29 151018.50135545785 7948.342176603044 440560.084723257 53583260.97048467 2755964.9204105735 85902559.3786961 385902559.37869614 414971966.348919 4668434.621425339 119640400.97034425\n",
      "30 135916.65121991208 7153.5079589427405 411692.8745564661 53851883.68586228 2763118.428369516 86314252.25325257 386314252.2532526 419640400.9703443 4720954.510916374 124361355.48126061\n",
      "31 122324.98609792086 6438.157163048467 386289.72960969014 54109410.272211 2769556.5855325647 86700541.98286225 386700541.9828623 424361355.48126066 4774065.249164182 129135420.73042479\n",
      "32 110092.48748812875 5794.34144674362 363934.9620565274 54357458.405332655 2775350.9269793085 87064476.94491878 387064476.9449188 429135420.7304248 4827773.483217279 133963194.21364208\n",
      "33 99083.23873931589 5214.907302069258 344262.76660974405 54597423.02590101 2780565.834281378 87408739.71152852 387408739.71152854 433963194.2136421 4882085.934903474 138845280.14854556\n",
      "34 89174.9148653843 4693.416571862333 326951.23461657483 54830505.92908034 2785259.2508532405 87735690.9461451 387735690.9461451 438845280.1485456 4937009.401671139 143782289.5502167\n",
      "35 80257.42337884587 4224.074914676099 311717.08646258584 55057741.5172494 2789483.3257679166 88047408.03260769 388047408.0326077 443782289.55021673 4992550.757439938 148774840.30765665\n",
      "36 72231.6810409613 3801.6674232084897 300000 55281708.16878523 2793284.9931911253 88347408.03260769 388347408.0326077 448774840.30765665 5048716.953461138 153823557.2611178\n",
      "37 0 0 300000 55581708.16878523 2793284.9931911253 88647408.03260769 388647408.0326077 453823557.26111776 5105515.019187574 158929072.28030536\n",
      "38 0 0 300000 55881708.16878523 2793284.9931911253 88947408.03260769 388947408.0326077 458929072.2803053 5162952.063153435 164092024.3434588\n"
     ]
    }
   ],
   "source": [
    "total_treasury_pool_balance = 0\n",
    "current_total_comm_pool = current_community_pool_balance\n",
    "total_cumulatively_issued_atom_new = 0\n",
    "total_atom_supply = current_total_atom_supply\n",
    "total_atom_supply_old = current_total_atom_supply\n",
    "issued_atom_old = 0\n",
    "cumulatively_issued_atom_old = issued_atom_old\n",
    "\n",
    "for month in range(timeline_length + 1):\n",
    "    outflow_security_subsidy = calculate_outflow_security_subsidy(month, security_subsidy_termination, current_security_subsidy, security_subsidy_decay, distrbution_module_pct_to_community_pool)\n",
    "    outflow_distribution_community_pool = calculate_outflow_distribution_community_pool(month, security_subsidy_termination, current_security_subsidy, security_subsidy_decay, distrbution_module_pct_to_community_pool)\n",
    "    inflow_issued_atom_new = calculate_inflow_issued_atom_new(month, time_until_steady_state_issuance, issuance, issuance_reduction_amount, steady_state_issuance)\n",
    "    total_treasury_pool_balance += calculate_total_treasury_pool_balance(outflow_distribution_community_pool, outflow_security_subsidy, inflow_issued_atom_new)\n",
    "    current_total_comm_pool += outflow_distribution_community_pool\n",
    "    total_cumulatively_issued_atom_new += inflow_issued_atom_new\n",
    "    total_atom_supply = calculate_total_atom_supply(total_atom_supply,inflow_issued_atom_new)\n",
    "    total_atom_supply_old,issued_atom_old, cumulatively_issued_atom_old = calculate_old_regime(total_atom_supply_old, issued_atom_old, cumulatively_issued_atom_old, current_security_subsidy_rate)\n",
    "\n",
    "    print(month, outflow_security_subsidy, outflow_distribution_community_pool, inflow_issued_atom_new, total_treasury_pool_balance, current_total_comm_pool, total_cumulatively_issued_atom_new, total_atom_supply, total_atom_supply_old,issued_atom_old, cumulatively_issued_atom_old)"
   ]
  },
  {
   "cell_type": "markdown",
   "metadata": {},
   "source": [
    "### Populate the result into a table"
   ]
  },
  {
   "cell_type": "code",
   "execution_count": 37,
   "metadata": {},
   "outputs": [],
   "source": [
    "# Initialize lists to store data\n",
    "data = []\n",
    "columns = [\"Month\", \"Outflow Security Subsidy\", \"Outflow Distribution to Community Pool\",\n",
    "           \"Inflow Issued ATOM (new)\", \"Total Treasury Pool Balance\",\n",
    "           \"Current Community Pool Balance\", \"Total Cumulatively Issued ATOM (new)\",\n",
    "           \"Total ATOM Supply\", \"Total ATOM Supply (old)\", \"Issued ATOM (old)\",\n",
    "           \"Cumulatively Issued ATOM (old)\"]\n",
    "\n",
    "# Combined logic\n",
    "total_treasury_pool_balance = 0\n",
    "current_total_comm_pool = current_community_pool_balance\n",
    "total_cumulatively_issued_atom_new = 0\n",
    "total_atom_supply = current_total_atom_supply\n",
    "total_atom_supply_old = current_total_atom_supply\n",
    "issued_atom_old = 0\n",
    "cumulatively_issued_atom_old = issued_atom_old\n",
    "\n",
    "for month in range(timeline_length + 1):\n",
    "    outflow_security_subsidy = calculate_outflow_security_subsidy(month, security_subsidy_termination, current_security_subsidy, security_subsidy_decay, distrbution_module_pct_to_community_pool)\n",
    "    outflow_distribution_community_pool = calculate_outflow_distribution_community_pool(month, security_subsidy_termination, current_security_subsidy, security_subsidy_decay, distrbution_module_pct_to_community_pool)\n",
    "    inflow_issued_atom_new = calculate_inflow_issued_atom_new(month, time_until_steady_state_issuance, issuance, issuance_reduction_amount, steady_state_issuance)\n",
    "    total_treasury_pool_balance += calculate_total_treasury_pool_balance(outflow_distribution_community_pool, outflow_security_subsidy, inflow_issued_atom_new)\n",
    "    current_total_comm_pool += outflow_distribution_community_pool\n",
    "    total_cumulatively_issued_atom_new += inflow_issued_atom_new\n",
    "    total_atom_supply = calculate_total_atom_supply(total_atom_supply,inflow_issued_atom_new)\n",
    "    total_atom_supply_old,issued_atom_old, cumulatively_issued_atom_old = calculate_old_regime(total_atom_supply_old, issued_atom_old, cumulatively_issued_atom_old, current_security_subsidy_rate)\n",
    "\n",
    "    # print(month, outflow_security_subsidy, outflow_distribution_community_pool, inflow_issued_atom_new, total_treasury_pool_balance, current_total_comm_pool, total_cumulatively_issued_atom_new, total_atom_supply, total_atom_supply_old,issued_atom_old, cumulatively_issued_atom_old)\n",
    "\n",
    "    # Append data for the current month to the list\n",
    "    data.append([month, outflow_security_subsidy, outflow_distribution_community_pool, inflow_issued_atom_new,\n",
    "                 total_treasury_pool_balance, current_total_comm_pool, total_cumulatively_issued_atom_new,\n",
    "                 total_atom_supply, total_atom_supply_old, issued_atom_old, cumulatively_issued_atom_old])\n",
    "\n",
    "# Create a DataFrame from the lists\n",
    "df = pd.DataFrame(data, columns=columns)\n",
    "\n",
    "# # Transpose the DataFrame\n",
    "# df_transposed = df.transpose()\n",
    "\n",
    "# # Print the transposed DataFrame\n",
    "# print(df_transposed)\n"
   ]
  },
  {
   "cell_type": "code",
   "execution_count": 38,
   "metadata": {},
   "outputs": [
    {
     "data": {
      "text/html": [
       "<div>\n",
       "<style scoped>\n",
       "    .dataframe tbody tr th:only-of-type {\n",
       "        vertical-align: middle;\n",
       "    }\n",
       "\n",
       "    .dataframe tbody tr th {\n",
       "        vertical-align: top;\n",
       "    }\n",
       "\n",
       "    .dataframe thead th {\n",
       "        text-align: right;\n",
       "    }\n",
       "</style>\n",
       "<table border=\"1\" class=\"dataframe\">\n",
       "  <thead>\n",
       "    <tr style=\"text-align: right;\">\n",
       "      <th></th>\n",
       "      <th>Month</th>\n",
       "      <th>Outflow Security Subsidy</th>\n",
       "      <th>Outflow Distribution to Community Pool</th>\n",
       "      <th>Inflow Issued ATOM (new)</th>\n",
       "      <th>Total Treasury Pool Balance</th>\n",
       "      <th>Current Community Pool Balance</th>\n",
       "      <th>Total Cumulatively Issued ATOM (new)</th>\n",
       "      <th>Total ATOM Supply</th>\n",
       "      <th>Total ATOM Supply (old)</th>\n",
       "      <th>Issued ATOM (old)</th>\n",
       "      <th>Cumulatively Issued ATOM (old)</th>\n",
       "    </tr>\n",
       "  </thead>\n",
       "  <tbody>\n",
       "    <tr>\n",
       "      <th>0</th>\n",
       "      <td>0</td>\n",
       "      <td>3206250.000</td>\n",
       "      <td>168750.000</td>\n",
       "      <td>1.000000e+07</td>\n",
       "      <td>6.625000e+06</td>\n",
       "      <td>1.308750e+06</td>\n",
       "      <td>1.000000e+07</td>\n",
       "      <td>3.100000e+08</td>\n",
       "      <td>3.000000e+08</td>\n",
       "      <td>3.375000e+06</td>\n",
       "      <td>3.375000e+06</td>\n",
       "    </tr>\n",
       "    <tr>\n",
       "      <th>1</th>\n",
       "      <td>1</td>\n",
       "      <td>2885625.000</td>\n",
       "      <td>151875.000</td>\n",
       "      <td>8.824000e+06</td>\n",
       "      <td>1.241150e+07</td>\n",
       "      <td>1.460625e+06</td>\n",
       "      <td>1.882400e+07</td>\n",
       "      <td>3.188240e+08</td>\n",
       "      <td>3.033750e+08</td>\n",
       "      <td>3.412969e+06</td>\n",
       "      <td>6.787969e+06</td>\n",
       "    </tr>\n",
       "    <tr>\n",
       "      <th>2</th>\n",
       "      <td>2</td>\n",
       "      <td>2597062.500</td>\n",
       "      <td>136687.500</td>\n",
       "      <td>7.789120e+06</td>\n",
       "      <td>1.746687e+07</td>\n",
       "      <td>1.597312e+06</td>\n",
       "      <td>2.661312e+07</td>\n",
       "      <td>3.266131e+08</td>\n",
       "      <td>3.067880e+08</td>\n",
       "      <td>3.451365e+06</td>\n",
       "      <td>1.023933e+07</td>\n",
       "    </tr>\n",
       "    <tr>\n",
       "      <th>3</th>\n",
       "      <td>3</td>\n",
       "      <td>2337356.250</td>\n",
       "      <td>123018.750</td>\n",
       "      <td>6.878426e+06</td>\n",
       "      <td>2.188492e+07</td>\n",
       "      <td>1.720331e+06</td>\n",
       "      <td>3.349155e+07</td>\n",
       "      <td>3.334915e+08</td>\n",
       "      <td>3.102393e+08</td>\n",
       "      <td>3.490193e+06</td>\n",
       "      <td>1.372953e+07</td>\n",
       "    </tr>\n",
       "    <tr>\n",
       "      <th>4</th>\n",
       "      <td>4</td>\n",
       "      <td>2103620.625</td>\n",
       "      <td>110716.875</td>\n",
       "      <td>6.077015e+06</td>\n",
       "      <td>2.574760e+07</td>\n",
       "      <td>1.831048e+06</td>\n",
       "      <td>3.956856e+07</td>\n",
       "      <td>3.395686e+08</td>\n",
       "      <td>3.137295e+08</td>\n",
       "      <td>3.529457e+06</td>\n",
       "      <td>1.725898e+07</td>\n",
       "    </tr>\n",
       "    <tr>\n",
       "      <th>...</th>\n",
       "      <td>...</td>\n",
       "      <td>...</td>\n",
       "      <td>...</td>\n",
       "      <td>...</td>\n",
       "      <td>...</td>\n",
       "      <td>...</td>\n",
       "      <td>...</td>\n",
       "      <td>...</td>\n",
       "      <td>...</td>\n",
       "      <td>...</td>\n",
       "      <td>...</td>\n",
       "    </tr>\n",
       "    <tr>\n",
       "      <th>56</th>\n",
       "      <td>56</td>\n",
       "      <td>0.000</td>\n",
       "      <td>0.000</td>\n",
       "      <td>3.000000e+05</td>\n",
       "      <td>6.128171e+07</td>\n",
       "      <td>2.793285e+06</td>\n",
       "      <td>9.434741e+07</td>\n",
       "      <td>3.943474e+08</td>\n",
       "      <td>5.613054e+08</td>\n",
       "      <td>6.314685e+06</td>\n",
       "      <td>2.676201e+08</td>\n",
       "    </tr>\n",
       "    <tr>\n",
       "      <th>57</th>\n",
       "      <td>57</td>\n",
       "      <td>0.000</td>\n",
       "      <td>0.000</td>\n",
       "      <td>3.000000e+05</td>\n",
       "      <td>6.158171e+07</td>\n",
       "      <td>2.793285e+06</td>\n",
       "      <td>9.464741e+07</td>\n",
       "      <td>3.946474e+08</td>\n",
       "      <td>5.676201e+08</td>\n",
       "      <td>6.385726e+06</td>\n",
       "      <td>2.740058e+08</td>\n",
       "    </tr>\n",
       "    <tr>\n",
       "      <th>58</th>\n",
       "      <td>58</td>\n",
       "      <td>0.000</td>\n",
       "      <td>0.000</td>\n",
       "      <td>3.000000e+05</td>\n",
       "      <td>6.188171e+07</td>\n",
       "      <td>2.793285e+06</td>\n",
       "      <td>9.494741e+07</td>\n",
       "      <td>3.949474e+08</td>\n",
       "      <td>5.740058e+08</td>\n",
       "      <td>6.457565e+06</td>\n",
       "      <td>2.804633e+08</td>\n",
       "    </tr>\n",
       "    <tr>\n",
       "      <th>59</th>\n",
       "      <td>59</td>\n",
       "      <td>0.000</td>\n",
       "      <td>0.000</td>\n",
       "      <td>3.000000e+05</td>\n",
       "      <td>6.218171e+07</td>\n",
       "      <td>2.793285e+06</td>\n",
       "      <td>9.524741e+07</td>\n",
       "      <td>3.952474e+08</td>\n",
       "      <td>5.804633e+08</td>\n",
       "      <td>6.530213e+06</td>\n",
       "      <td>2.869936e+08</td>\n",
       "    </tr>\n",
       "    <tr>\n",
       "      <th>60</th>\n",
       "      <td>60</td>\n",
       "      <td>0.000</td>\n",
       "      <td>0.000</td>\n",
       "      <td>3.000000e+05</td>\n",
       "      <td>6.248171e+07</td>\n",
       "      <td>2.793285e+06</td>\n",
       "      <td>9.554741e+07</td>\n",
       "      <td>3.955474e+08</td>\n",
       "      <td>5.869936e+08</td>\n",
       "      <td>6.603677e+06</td>\n",
       "      <td>2.935972e+08</td>\n",
       "    </tr>\n",
       "  </tbody>\n",
       "</table>\n",
       "<p>61 rows × 11 columns</p>\n",
       "</div>"
      ],
      "text/plain": [
       "    Month  Outflow Security Subsidy  Outflow Distribution to Community Pool  \\\n",
       "0       0               3206250.000                              168750.000   \n",
       "1       1               2885625.000                              151875.000   \n",
       "2       2               2597062.500                              136687.500   \n",
       "3       3               2337356.250                              123018.750   \n",
       "4       4               2103620.625                              110716.875   \n",
       "..    ...                       ...                                     ...   \n",
       "56     56                     0.000                                   0.000   \n",
       "57     57                     0.000                                   0.000   \n",
       "58     58                     0.000                                   0.000   \n",
       "59     59                     0.000                                   0.000   \n",
       "60     60                     0.000                                   0.000   \n",
       "\n",
       "    Inflow Issued ATOM (new)  Total Treasury Pool Balance  \\\n",
       "0               1.000000e+07                 6.625000e+06   \n",
       "1               8.824000e+06                 1.241150e+07   \n",
       "2               7.789120e+06                 1.746687e+07   \n",
       "3               6.878426e+06                 2.188492e+07   \n",
       "4               6.077015e+06                 2.574760e+07   \n",
       "..                       ...                          ...   \n",
       "56              3.000000e+05                 6.128171e+07   \n",
       "57              3.000000e+05                 6.158171e+07   \n",
       "58              3.000000e+05                 6.188171e+07   \n",
       "59              3.000000e+05                 6.218171e+07   \n",
       "60              3.000000e+05                 6.248171e+07   \n",
       "\n",
       "    Current Community Pool Balance  Total Cumulatively Issued ATOM (new)  \\\n",
       "0                     1.308750e+06                          1.000000e+07   \n",
       "1                     1.460625e+06                          1.882400e+07   \n",
       "2                     1.597312e+06                          2.661312e+07   \n",
       "3                     1.720331e+06                          3.349155e+07   \n",
       "4                     1.831048e+06                          3.956856e+07   \n",
       "..                             ...                                   ...   \n",
       "56                    2.793285e+06                          9.434741e+07   \n",
       "57                    2.793285e+06                          9.464741e+07   \n",
       "58                    2.793285e+06                          9.494741e+07   \n",
       "59                    2.793285e+06                          9.524741e+07   \n",
       "60                    2.793285e+06                          9.554741e+07   \n",
       "\n",
       "    Total ATOM Supply  Total ATOM Supply (old)  Issued ATOM (old)  \\\n",
       "0        3.100000e+08             3.000000e+08       3.375000e+06   \n",
       "1        3.188240e+08             3.033750e+08       3.412969e+06   \n",
       "2        3.266131e+08             3.067880e+08       3.451365e+06   \n",
       "3        3.334915e+08             3.102393e+08       3.490193e+06   \n",
       "4        3.395686e+08             3.137295e+08       3.529457e+06   \n",
       "..                ...                      ...                ...   \n",
       "56       3.943474e+08             5.613054e+08       6.314685e+06   \n",
       "57       3.946474e+08             5.676201e+08       6.385726e+06   \n",
       "58       3.949474e+08             5.740058e+08       6.457565e+06   \n",
       "59       3.952474e+08             5.804633e+08       6.530213e+06   \n",
       "60       3.955474e+08             5.869936e+08       6.603677e+06   \n",
       "\n",
       "    Cumulatively Issued ATOM (old)  \n",
       "0                     3.375000e+06  \n",
       "1                     6.787969e+06  \n",
       "2                     1.023933e+07  \n",
       "3                     1.372953e+07  \n",
       "4                     1.725898e+07  \n",
       "..                             ...  \n",
       "56                    2.676201e+08  \n",
       "57                    2.740058e+08  \n",
       "58                    2.804633e+08  \n",
       "59                    2.869936e+08  \n",
       "60                    2.935972e+08  \n",
       "\n",
       "[61 rows x 11 columns]"
      ]
     },
     "execution_count": 38,
     "metadata": {},
     "output_type": "execute_result"
    }
   ],
   "source": [
    "df"
   ]
  },
  {
   "cell_type": "markdown",
   "metadata": {},
   "source": [
    "### Graphs"
   ]
  },
  {
   "cell_type": "code",
   "execution_count": 39,
   "metadata": {},
   "outputs": [
    {
     "data": {
      "application/vnd.plotly.v1+json": {
       "config": {
        "plotlyServerURL": "https://plot.ly"
       },
       "data": [
        {
         "hovertemplate": "Category=Inflow Issued ATOM (new)<br>Month=%{x}<br>Value=%{y}<extra></extra>",
         "legendgroup": "Inflow Issued ATOM (new)",
         "line": {
          "color": "#636efa",
          "dash": "solid"
         },
         "marker": {
          "symbol": "circle"
         },
         "mode": "lines",
         "name": "Inflow Issued ATOM (new)",
         "orientation": "v",
         "showlegend": true,
         "type": "scatter",
         "x": [
          0,
          1,
          2,
          3,
          4,
          5,
          6,
          7,
          8,
          9,
          10,
          11,
          12,
          13,
          14,
          15,
          16,
          17,
          18,
          19,
          20,
          21,
          22,
          23,
          24,
          25,
          26,
          27,
          28,
          29,
          30,
          31,
          32,
          33,
          34,
          35,
          36,
          37,
          38,
          39,
          40,
          41,
          42,
          43,
          44,
          45,
          46,
          47,
          48,
          49,
          50,
          51,
          52,
          53,
          54,
          55,
          56,
          57,
          58,
          59,
          60
         ],
         "xaxis": "x",
         "y": [
          10000000,
          8824000,
          7789120,
          6878425.6,
          6077014.528,
          5371772.78464,
          4751160.050483201,
          4205020.844425216,
          3724418.34309419,
          3301488.1419228874,
          2929309.564892141,
          2601792.4171050843,
          2313577.327052474,
          2059948.047806177,
          1836754.2820694358,
          1640343.7682211036,
          1467502.516034571,
          1315402.2141104226,
          1181553.9484171718,
          1063767.4746071112,
          960115.3776542579,
          868901.5323357469,
          788633.3484554574,
          717997.3466408025,
          655837.6650439062,
          601137.1452386375,
          553000.687810001,
          510640.60527280084,
          473363.7326400647,
          440560.084723257,
          411692.8745564661,
          386289.72960969014,
          363934.9620565274,
          344262.76660974405,
          326951.23461657483,
          311717.08646258584,
          300000,
          300000,
          300000,
          300000,
          300000,
          300000,
          300000,
          300000,
          300000,
          300000,
          300000,
          300000,
          300000,
          300000,
          300000,
          300000,
          300000,
          300000,
          300000,
          300000,
          300000,
          300000,
          300000,
          300000,
          300000
         ],
         "yaxis": "y"
        },
        {
         "hovertemplate": "Category=Issued ATOM (old)<br>Month=%{x}<br>Value=%{y}<extra></extra>",
         "legendgroup": "Issued ATOM (old)",
         "line": {
          "color": "#EF553B",
          "dash": "solid"
         },
         "marker": {
          "symbol": "circle"
         },
         "mode": "lines",
         "name": "Issued ATOM (old)",
         "orientation": "v",
         "showlegend": true,
         "type": "scatter",
         "x": [
          0,
          1,
          2,
          3,
          4,
          5,
          6,
          7,
          8,
          9,
          10,
          11,
          12,
          13,
          14,
          15,
          16,
          17,
          18,
          19,
          20,
          21,
          22,
          23,
          24,
          25,
          26,
          27,
          28,
          29,
          30,
          31,
          32,
          33,
          34,
          35,
          36,
          37,
          38,
          39,
          40,
          41,
          42,
          43,
          44,
          45,
          46,
          47,
          48,
          49,
          50,
          51,
          52,
          53,
          54,
          55,
          56,
          57,
          58,
          59,
          60
         ],
         "xaxis": "x",
         "y": [
          3375000,
          3412968.75,
          3451364.6484375,
          3490192.500732422,
          3529457.166365661,
          3569163.559487276,
          3609316.6495315074,
          3649921.4618387367,
          3690983.0782844224,
          3732506.637915123,
          3774497.337591667,
          3816960.4326395732,
          3859901.237506769,
          3903325.12642872,
          3947237.534101043,
          3991643.9563596807,
          4036549.9508687262,
          4081961.1378160003,
          4127883.20061643,
          4174321.8866233644,
          4221283.007847877,
          4268772.441686167,
          4316796.131655136,
          4365360.088136257,
          4414470.389127789,
          4464133.181005477,
          4514354.6792917885,
          4565141.169433821,
          4616499.007589951,
          4668434.621425339,
          4720954.510916374,
          4774065.249164182,
          4827773.483217279,
          4882085.934903474,
          4937009.401671139,
          4992550.757439938,
          5048716.953461138,
          5105515.019187574,
          5162952.063153435,
          5221035.273863911,
          5279771.92069488,
          5339169.354802697,
          5399235.010044227,
          5459976.4039072255,
          5521401.138451181,
          5583516.901258757,
          5646331.466397918,
          5709852.695394895,
          5774088.5382180875,
          5839047.0342730405,
          5904736.313408612,
          5971164.596934459,
          6038340.198649972,
          6106271.525884784,
          6174967.080550987,
          6244435.460207186,
          6314685.359134518,
          6385725.569424781,
          6457564.98208081,
          6530212.588129219,
          6603677.479745671
         ],
         "yaxis": "y"
        }
       ],
       "layout": {
        "legend": {
         "title": {
          "text": "Category"
         },
         "tracegroupgap": 0
        },
        "template": {
         "data": {
          "bar": [
           {
            "error_x": {
             "color": "#2a3f5f"
            },
            "error_y": {
             "color": "#2a3f5f"
            },
            "marker": {
             "line": {
              "color": "white",
              "width": 0.5
             },
             "pattern": {
              "fillmode": "overlay",
              "size": 10,
              "solidity": 0.2
             }
            },
            "type": "bar"
           }
          ],
          "barpolar": [
           {
            "marker": {
             "line": {
              "color": "white",
              "width": 0.5
             },
             "pattern": {
              "fillmode": "overlay",
              "size": 10,
              "solidity": 0.2
             }
            },
            "type": "barpolar"
           }
          ],
          "carpet": [
           {
            "aaxis": {
             "endlinecolor": "#2a3f5f",
             "gridcolor": "#C8D4E3",
             "linecolor": "#C8D4E3",
             "minorgridcolor": "#C8D4E3",
             "startlinecolor": "#2a3f5f"
            },
            "baxis": {
             "endlinecolor": "#2a3f5f",
             "gridcolor": "#C8D4E3",
             "linecolor": "#C8D4E3",
             "minorgridcolor": "#C8D4E3",
             "startlinecolor": "#2a3f5f"
            },
            "type": "carpet"
           }
          ],
          "choropleth": [
           {
            "colorbar": {
             "outlinewidth": 0,
             "ticks": ""
            },
            "type": "choropleth"
           }
          ],
          "contour": [
           {
            "colorbar": {
             "outlinewidth": 0,
             "ticks": ""
            },
            "colorscale": [
             [
              0,
              "#0d0887"
             ],
             [
              0.1111111111111111,
              "#46039f"
             ],
             [
              0.2222222222222222,
              "#7201a8"
             ],
             [
              0.3333333333333333,
              "#9c179e"
             ],
             [
              0.4444444444444444,
              "#bd3786"
             ],
             [
              0.5555555555555556,
              "#d8576b"
             ],
             [
              0.6666666666666666,
              "#ed7953"
             ],
             [
              0.7777777777777778,
              "#fb9f3a"
             ],
             [
              0.8888888888888888,
              "#fdca26"
             ],
             [
              1,
              "#f0f921"
             ]
            ],
            "type": "contour"
           }
          ],
          "contourcarpet": [
           {
            "colorbar": {
             "outlinewidth": 0,
             "ticks": ""
            },
            "type": "contourcarpet"
           }
          ],
          "heatmap": [
           {
            "colorbar": {
             "outlinewidth": 0,
             "ticks": ""
            },
            "colorscale": [
             [
              0,
              "#0d0887"
             ],
             [
              0.1111111111111111,
              "#46039f"
             ],
             [
              0.2222222222222222,
              "#7201a8"
             ],
             [
              0.3333333333333333,
              "#9c179e"
             ],
             [
              0.4444444444444444,
              "#bd3786"
             ],
             [
              0.5555555555555556,
              "#d8576b"
             ],
             [
              0.6666666666666666,
              "#ed7953"
             ],
             [
              0.7777777777777778,
              "#fb9f3a"
             ],
             [
              0.8888888888888888,
              "#fdca26"
             ],
             [
              1,
              "#f0f921"
             ]
            ],
            "type": "heatmap"
           }
          ],
          "heatmapgl": [
           {
            "colorbar": {
             "outlinewidth": 0,
             "ticks": ""
            },
            "colorscale": [
             [
              0,
              "#0d0887"
             ],
             [
              0.1111111111111111,
              "#46039f"
             ],
             [
              0.2222222222222222,
              "#7201a8"
             ],
             [
              0.3333333333333333,
              "#9c179e"
             ],
             [
              0.4444444444444444,
              "#bd3786"
             ],
             [
              0.5555555555555556,
              "#d8576b"
             ],
             [
              0.6666666666666666,
              "#ed7953"
             ],
             [
              0.7777777777777778,
              "#fb9f3a"
             ],
             [
              0.8888888888888888,
              "#fdca26"
             ],
             [
              1,
              "#f0f921"
             ]
            ],
            "type": "heatmapgl"
           }
          ],
          "histogram": [
           {
            "marker": {
             "pattern": {
              "fillmode": "overlay",
              "size": 10,
              "solidity": 0.2
             }
            },
            "type": "histogram"
           }
          ],
          "histogram2d": [
           {
            "colorbar": {
             "outlinewidth": 0,
             "ticks": ""
            },
            "colorscale": [
             [
              0,
              "#0d0887"
             ],
             [
              0.1111111111111111,
              "#46039f"
             ],
             [
              0.2222222222222222,
              "#7201a8"
             ],
             [
              0.3333333333333333,
              "#9c179e"
             ],
             [
              0.4444444444444444,
              "#bd3786"
             ],
             [
              0.5555555555555556,
              "#d8576b"
             ],
             [
              0.6666666666666666,
              "#ed7953"
             ],
             [
              0.7777777777777778,
              "#fb9f3a"
             ],
             [
              0.8888888888888888,
              "#fdca26"
             ],
             [
              1,
              "#f0f921"
             ]
            ],
            "type": "histogram2d"
           }
          ],
          "histogram2dcontour": [
           {
            "colorbar": {
             "outlinewidth": 0,
             "ticks": ""
            },
            "colorscale": [
             [
              0,
              "#0d0887"
             ],
             [
              0.1111111111111111,
              "#46039f"
             ],
             [
              0.2222222222222222,
              "#7201a8"
             ],
             [
              0.3333333333333333,
              "#9c179e"
             ],
             [
              0.4444444444444444,
              "#bd3786"
             ],
             [
              0.5555555555555556,
              "#d8576b"
             ],
             [
              0.6666666666666666,
              "#ed7953"
             ],
             [
              0.7777777777777778,
              "#fb9f3a"
             ],
             [
              0.8888888888888888,
              "#fdca26"
             ],
             [
              1,
              "#f0f921"
             ]
            ],
            "type": "histogram2dcontour"
           }
          ],
          "mesh3d": [
           {
            "colorbar": {
             "outlinewidth": 0,
             "ticks": ""
            },
            "type": "mesh3d"
           }
          ],
          "parcoords": [
           {
            "line": {
             "colorbar": {
              "outlinewidth": 0,
              "ticks": ""
             }
            },
            "type": "parcoords"
           }
          ],
          "pie": [
           {
            "automargin": true,
            "type": "pie"
           }
          ],
          "scatter": [
           {
            "fillpattern": {
             "fillmode": "overlay",
             "size": 10,
             "solidity": 0.2
            },
            "type": "scatter"
           }
          ],
          "scatter3d": [
           {
            "line": {
             "colorbar": {
              "outlinewidth": 0,
              "ticks": ""
             }
            },
            "marker": {
             "colorbar": {
              "outlinewidth": 0,
              "ticks": ""
             }
            },
            "type": "scatter3d"
           }
          ],
          "scattercarpet": [
           {
            "marker": {
             "colorbar": {
              "outlinewidth": 0,
              "ticks": ""
             }
            },
            "type": "scattercarpet"
           }
          ],
          "scattergeo": [
           {
            "marker": {
             "colorbar": {
              "outlinewidth": 0,
              "ticks": ""
             }
            },
            "type": "scattergeo"
           }
          ],
          "scattergl": [
           {
            "marker": {
             "colorbar": {
              "outlinewidth": 0,
              "ticks": ""
             }
            },
            "type": "scattergl"
           }
          ],
          "scattermapbox": [
           {
            "marker": {
             "colorbar": {
              "outlinewidth": 0,
              "ticks": ""
             }
            },
            "type": "scattermapbox"
           }
          ],
          "scatterpolar": [
           {
            "marker": {
             "colorbar": {
              "outlinewidth": 0,
              "ticks": ""
             }
            },
            "type": "scatterpolar"
           }
          ],
          "scatterpolargl": [
           {
            "marker": {
             "colorbar": {
              "outlinewidth": 0,
              "ticks": ""
             }
            },
            "type": "scatterpolargl"
           }
          ],
          "scatterternary": [
           {
            "marker": {
             "colorbar": {
              "outlinewidth": 0,
              "ticks": ""
             }
            },
            "type": "scatterternary"
           }
          ],
          "surface": [
           {
            "colorbar": {
             "outlinewidth": 0,
             "ticks": ""
            },
            "colorscale": [
             [
              0,
              "#0d0887"
             ],
             [
              0.1111111111111111,
              "#46039f"
             ],
             [
              0.2222222222222222,
              "#7201a8"
             ],
             [
              0.3333333333333333,
              "#9c179e"
             ],
             [
              0.4444444444444444,
              "#bd3786"
             ],
             [
              0.5555555555555556,
              "#d8576b"
             ],
             [
              0.6666666666666666,
              "#ed7953"
             ],
             [
              0.7777777777777778,
              "#fb9f3a"
             ],
             [
              0.8888888888888888,
              "#fdca26"
             ],
             [
              1,
              "#f0f921"
             ]
            ],
            "type": "surface"
           }
          ],
          "table": [
           {
            "cells": {
             "fill": {
              "color": "#EBF0F8"
             },
             "line": {
              "color": "white"
             }
            },
            "header": {
             "fill": {
              "color": "#C8D4E3"
             },
             "line": {
              "color": "white"
             }
            },
            "type": "table"
           }
          ]
         },
         "layout": {
          "annotationdefaults": {
           "arrowcolor": "#2a3f5f",
           "arrowhead": 0,
           "arrowwidth": 1
          },
          "autotypenumbers": "strict",
          "coloraxis": {
           "colorbar": {
            "outlinewidth": 0,
            "ticks": ""
           }
          },
          "colorscale": {
           "diverging": [
            [
             0,
             "#8e0152"
            ],
            [
             0.1,
             "#c51b7d"
            ],
            [
             0.2,
             "#de77ae"
            ],
            [
             0.3,
             "#f1b6da"
            ],
            [
             0.4,
             "#fde0ef"
            ],
            [
             0.5,
             "#f7f7f7"
            ],
            [
             0.6,
             "#e6f5d0"
            ],
            [
             0.7,
             "#b8e186"
            ],
            [
             0.8,
             "#7fbc41"
            ],
            [
             0.9,
             "#4d9221"
            ],
            [
             1,
             "#276419"
            ]
           ],
           "sequential": [
            [
             0,
             "#0d0887"
            ],
            [
             0.1111111111111111,
             "#46039f"
            ],
            [
             0.2222222222222222,
             "#7201a8"
            ],
            [
             0.3333333333333333,
             "#9c179e"
            ],
            [
             0.4444444444444444,
             "#bd3786"
            ],
            [
             0.5555555555555556,
             "#d8576b"
            ],
            [
             0.6666666666666666,
             "#ed7953"
            ],
            [
             0.7777777777777778,
             "#fb9f3a"
            ],
            [
             0.8888888888888888,
             "#fdca26"
            ],
            [
             1,
             "#f0f921"
            ]
           ],
           "sequentialminus": [
            [
             0,
             "#0d0887"
            ],
            [
             0.1111111111111111,
             "#46039f"
            ],
            [
             0.2222222222222222,
             "#7201a8"
            ],
            [
             0.3333333333333333,
             "#9c179e"
            ],
            [
             0.4444444444444444,
             "#bd3786"
            ],
            [
             0.5555555555555556,
             "#d8576b"
            ],
            [
             0.6666666666666666,
             "#ed7953"
            ],
            [
             0.7777777777777778,
             "#fb9f3a"
            ],
            [
             0.8888888888888888,
             "#fdca26"
            ],
            [
             1,
             "#f0f921"
            ]
           ]
          },
          "colorway": [
           "#636efa",
           "#EF553B",
           "#00cc96",
           "#ab63fa",
           "#FFA15A",
           "#19d3f3",
           "#FF6692",
           "#B6E880",
           "#FF97FF",
           "#FECB52"
          ],
          "font": {
           "color": "#2a3f5f"
          },
          "geo": {
           "bgcolor": "white",
           "lakecolor": "white",
           "landcolor": "white",
           "showlakes": true,
           "showland": true,
           "subunitcolor": "#C8D4E3"
          },
          "hoverlabel": {
           "align": "left"
          },
          "hovermode": "closest",
          "mapbox": {
           "style": "light"
          },
          "paper_bgcolor": "white",
          "plot_bgcolor": "white",
          "polar": {
           "angularaxis": {
            "gridcolor": "#EBF0F8",
            "linecolor": "#EBF0F8",
            "ticks": ""
           },
           "bgcolor": "white",
           "radialaxis": {
            "gridcolor": "#EBF0F8",
            "linecolor": "#EBF0F8",
            "ticks": ""
           }
          },
          "scene": {
           "xaxis": {
            "backgroundcolor": "white",
            "gridcolor": "#DFE8F3",
            "gridwidth": 2,
            "linecolor": "#EBF0F8",
            "showbackground": true,
            "ticks": "",
            "zerolinecolor": "#EBF0F8"
           },
           "yaxis": {
            "backgroundcolor": "white",
            "gridcolor": "#DFE8F3",
            "gridwidth": 2,
            "linecolor": "#EBF0F8",
            "showbackground": true,
            "ticks": "",
            "zerolinecolor": "#EBF0F8"
           },
           "zaxis": {
            "backgroundcolor": "white",
            "gridcolor": "#DFE8F3",
            "gridwidth": 2,
            "linecolor": "#EBF0F8",
            "showbackground": true,
            "ticks": "",
            "zerolinecolor": "#EBF0F8"
           }
          },
          "shapedefaults": {
           "line": {
            "color": "#2a3f5f"
           }
          },
          "ternary": {
           "aaxis": {
            "gridcolor": "#DFE8F3",
            "linecolor": "#A2B1C6",
            "ticks": ""
           },
           "baxis": {
            "gridcolor": "#DFE8F3",
            "linecolor": "#A2B1C6",
            "ticks": ""
           },
           "bgcolor": "white",
           "caxis": {
            "gridcolor": "#DFE8F3",
            "linecolor": "#A2B1C6",
            "ticks": ""
           }
          },
          "title": {
           "x": 0.05
          },
          "xaxis": {
           "automargin": true,
           "gridcolor": "#EBF0F8",
           "linecolor": "#EBF0F8",
           "ticks": "",
           "title": {
            "standoff": 15
           },
           "zerolinecolor": "#EBF0F8",
           "zerolinewidth": 2
          },
          "yaxis": {
           "automargin": true,
           "gridcolor": "#EBF0F8",
           "linecolor": "#EBF0F8",
           "ticks": "",
           "title": {
            "standoff": 15
           },
           "zerolinecolor": "#EBF0F8",
           "zerolinewidth": 2
          }
         }
        },
        "title": {
         "text": "Issued ATOM"
        },
        "xaxis": {
         "anchor": "y",
         "domain": [
          0,
          1
         ],
         "title": {
          "text": "Month"
         }
        },
        "yaxis": {
         "anchor": "x",
         "domain": [
          0,
          1
         ],
         "title": {
          "text": "Value"
         }
        }
       }
      }
     },
     "metadata": {},
     "output_type": "display_data"
    }
   ],
   "source": [
    "# Issued ATOM\n",
    "fig = px.line(df, x='Month', y=['Inflow Issued ATOM (new)', 'Issued ATOM (old)'],\n",
    "              labels={'value': 'Value', 'variable': 'Category'},\n",
    "              title='Issued ATOM',\n",
    "              template='plotly_white')\n",
    "\n",
    "# Show the plot\n",
    "fig.show()\n"
   ]
  },
  {
   "cell_type": "code",
   "execution_count": 42,
   "metadata": {},
   "outputs": [
    {
     "data": {
      "application/vnd.plotly.v1+json": {
       "config": {
        "plotlyServerURL": "https://plot.ly"
       },
       "data": [
        {
         "hovertemplate": "Category=Total Cumulatively Issued ATOM (new)<br>Month=%{x}<br>Value=%{y}<extra></extra>",
         "legendgroup": "Total Cumulatively Issued ATOM (new)",
         "line": {
          "color": "#636efa",
          "dash": "solid"
         },
         "marker": {
          "symbol": "circle"
         },
         "mode": "lines",
         "name": "Total Cumulatively Issued ATOM (new)",
         "orientation": "v",
         "showlegend": true,
         "type": "scatter",
         "x": [
          0,
          1,
          2,
          3,
          4,
          5,
          6,
          7,
          8,
          9,
          10,
          11,
          12,
          13,
          14,
          15,
          16,
          17,
          18,
          19,
          20,
          21,
          22,
          23,
          24,
          25,
          26,
          27,
          28,
          29,
          30,
          31,
          32,
          33,
          34,
          35,
          36,
          37,
          38,
          39,
          40,
          41,
          42,
          43,
          44,
          45,
          46,
          47,
          48,
          49,
          50,
          51,
          52,
          53,
          54,
          55,
          56,
          57,
          58,
          59,
          60
         ],
         "xaxis": "x",
         "y": [
          10000000,
          18824000,
          26613120,
          33491545.6,
          39568560.128,
          44940332.91264,
          49691492.9631232,
          53896513.80754842,
          57620932.15064261,
          60922420.292565495,
          63851729.85745764,
          66453522.274562724,
          68767099.60161519,
          70827047.64942136,
          72663801.9314908,
          74304145.6997119,
          75771648.21574648,
          77087050.4298569,
          78268604.37827407,
          79332371.85288118,
          80292487.23053543,
          81161388.76287118,
          81950022.11132663,
          82668019.45796743,
          83323857.12301134,
          83924994.26824997,
          84477994.95605998,
          84988635.56133278,
          85461999.29397283,
          85902559.3786961,
          86314252.25325257,
          86700541.98286225,
          87064476.94491878,
          87408739.71152852,
          87735690.9461451,
          88047408.03260769,
          88347408.03260769,
          88647408.03260769,
          88947408.03260769,
          89247408.03260769,
          89547408.03260769,
          89847408.03260769,
          90147408.03260769,
          90447408.03260769,
          90747408.03260769,
          91047408.03260769,
          91347408.03260769,
          91647408.03260769,
          91947408.03260769,
          92247408.03260769,
          92547408.03260769,
          92847408.03260769,
          93147408.03260769,
          93447408.03260769,
          93747408.03260769,
          94047408.03260769,
          94347408.03260769,
          94647408.03260769,
          94947408.03260769,
          95247408.03260769,
          95547408.03260769
         ],
         "yaxis": "y"
        },
        {
         "hovertemplate": "Category=Cumulatively Issued ATOM (old)<br>Month=%{x}<br>Value=%{y}<extra></extra>",
         "legendgroup": "Cumulatively Issued ATOM (old)",
         "line": {
          "color": "#EF553B",
          "dash": "solid"
         },
         "marker": {
          "symbol": "circle"
         },
         "mode": "lines",
         "name": "Cumulatively Issued ATOM (old)",
         "orientation": "v",
         "showlegend": true,
         "type": "scatter",
         "x": [
          0,
          1,
          2,
          3,
          4,
          5,
          6,
          7,
          8,
          9,
          10,
          11,
          12,
          13,
          14,
          15,
          16,
          17,
          18,
          19,
          20,
          21,
          22,
          23,
          24,
          25,
          26,
          27,
          28,
          29,
          30,
          31,
          32,
          33,
          34,
          35,
          36,
          37,
          38,
          39,
          40,
          41,
          42,
          43,
          44,
          45,
          46,
          47,
          48,
          49,
          50,
          51,
          52,
          53,
          54,
          55,
          56,
          57,
          58,
          59,
          60
         ],
         "xaxis": "x",
         "y": [
          3375000,
          6787968.75,
          10239333.3984375,
          13729525.899169922,
          17258983.065535583,
          20828146.62502286,
          24437463.274554364,
          28087384.7363931,
          31778367.814677525,
          35510874.45259265,
          39285371.79018432,
          43102332.222823896,
          46962233.460330665,
          50865558.58675939,
          54812796.12086043,
          58804440.07722011,
          62840990.02808884,
          66922951.165904835,
          71050834.36652127,
          75225156.25314464,
          79446439.26099251,
          83715211.70267868,
          88032007.83433382,
          92397367.92247008,
          96811838.31159787,
          101275971.49260335,
          105790326.17189513,
          110355467.34132895,
          114971966.3489189,
          119640400.97034425,
          124361355.48126061,
          129135420.73042479,
          133963194.21364208,
          138845280.14854556,
          143782289.5502167,
          148774840.30765665,
          153823557.2611178,
          158929072.28030536,
          164092024.3434588,
          169313059.6173227,
          174592831.5380176,
          179932000.8928203,
          185331235.90286452,
          190791212.30677176,
          196312613.44522294,
          201896130.3464817,
          207542461.81287962,
          213252314.50827453,
          219026403.0464926,
          224865450.08076563,
          230770186.39417425,
          236741350.99110872,
          242779691.1897587,
          248885962.71564347,
          255060929.79619446,
          261305365.25640166,
          267620050.61553618,
          274005776.18496096,
          280463341.1670418,
          286993553.755171,
          293597231.2349167
         ],
         "yaxis": "y"
        }
       ],
       "layout": {
        "legend": {
         "title": {
          "text": "Category"
         },
         "tracegroupgap": 0
        },
        "template": {
         "data": {
          "bar": [
           {
            "error_x": {
             "color": "#2a3f5f"
            },
            "error_y": {
             "color": "#2a3f5f"
            },
            "marker": {
             "line": {
              "color": "white",
              "width": 0.5
             },
             "pattern": {
              "fillmode": "overlay",
              "size": 10,
              "solidity": 0.2
             }
            },
            "type": "bar"
           }
          ],
          "barpolar": [
           {
            "marker": {
             "line": {
              "color": "white",
              "width": 0.5
             },
             "pattern": {
              "fillmode": "overlay",
              "size": 10,
              "solidity": 0.2
             }
            },
            "type": "barpolar"
           }
          ],
          "carpet": [
           {
            "aaxis": {
             "endlinecolor": "#2a3f5f",
             "gridcolor": "#C8D4E3",
             "linecolor": "#C8D4E3",
             "minorgridcolor": "#C8D4E3",
             "startlinecolor": "#2a3f5f"
            },
            "baxis": {
             "endlinecolor": "#2a3f5f",
             "gridcolor": "#C8D4E3",
             "linecolor": "#C8D4E3",
             "minorgridcolor": "#C8D4E3",
             "startlinecolor": "#2a3f5f"
            },
            "type": "carpet"
           }
          ],
          "choropleth": [
           {
            "colorbar": {
             "outlinewidth": 0,
             "ticks": ""
            },
            "type": "choropleth"
           }
          ],
          "contour": [
           {
            "colorbar": {
             "outlinewidth": 0,
             "ticks": ""
            },
            "colorscale": [
             [
              0,
              "#0d0887"
             ],
             [
              0.1111111111111111,
              "#46039f"
             ],
             [
              0.2222222222222222,
              "#7201a8"
             ],
             [
              0.3333333333333333,
              "#9c179e"
             ],
             [
              0.4444444444444444,
              "#bd3786"
             ],
             [
              0.5555555555555556,
              "#d8576b"
             ],
             [
              0.6666666666666666,
              "#ed7953"
             ],
             [
              0.7777777777777778,
              "#fb9f3a"
             ],
             [
              0.8888888888888888,
              "#fdca26"
             ],
             [
              1,
              "#f0f921"
             ]
            ],
            "type": "contour"
           }
          ],
          "contourcarpet": [
           {
            "colorbar": {
             "outlinewidth": 0,
             "ticks": ""
            },
            "type": "contourcarpet"
           }
          ],
          "heatmap": [
           {
            "colorbar": {
             "outlinewidth": 0,
             "ticks": ""
            },
            "colorscale": [
             [
              0,
              "#0d0887"
             ],
             [
              0.1111111111111111,
              "#46039f"
             ],
             [
              0.2222222222222222,
              "#7201a8"
             ],
             [
              0.3333333333333333,
              "#9c179e"
             ],
             [
              0.4444444444444444,
              "#bd3786"
             ],
             [
              0.5555555555555556,
              "#d8576b"
             ],
             [
              0.6666666666666666,
              "#ed7953"
             ],
             [
              0.7777777777777778,
              "#fb9f3a"
             ],
             [
              0.8888888888888888,
              "#fdca26"
             ],
             [
              1,
              "#f0f921"
             ]
            ],
            "type": "heatmap"
           }
          ],
          "heatmapgl": [
           {
            "colorbar": {
             "outlinewidth": 0,
             "ticks": ""
            },
            "colorscale": [
             [
              0,
              "#0d0887"
             ],
             [
              0.1111111111111111,
              "#46039f"
             ],
             [
              0.2222222222222222,
              "#7201a8"
             ],
             [
              0.3333333333333333,
              "#9c179e"
             ],
             [
              0.4444444444444444,
              "#bd3786"
             ],
             [
              0.5555555555555556,
              "#d8576b"
             ],
             [
              0.6666666666666666,
              "#ed7953"
             ],
             [
              0.7777777777777778,
              "#fb9f3a"
             ],
             [
              0.8888888888888888,
              "#fdca26"
             ],
             [
              1,
              "#f0f921"
             ]
            ],
            "type": "heatmapgl"
           }
          ],
          "histogram": [
           {
            "marker": {
             "pattern": {
              "fillmode": "overlay",
              "size": 10,
              "solidity": 0.2
             }
            },
            "type": "histogram"
           }
          ],
          "histogram2d": [
           {
            "colorbar": {
             "outlinewidth": 0,
             "ticks": ""
            },
            "colorscale": [
             [
              0,
              "#0d0887"
             ],
             [
              0.1111111111111111,
              "#46039f"
             ],
             [
              0.2222222222222222,
              "#7201a8"
             ],
             [
              0.3333333333333333,
              "#9c179e"
             ],
             [
              0.4444444444444444,
              "#bd3786"
             ],
             [
              0.5555555555555556,
              "#d8576b"
             ],
             [
              0.6666666666666666,
              "#ed7953"
             ],
             [
              0.7777777777777778,
              "#fb9f3a"
             ],
             [
              0.8888888888888888,
              "#fdca26"
             ],
             [
              1,
              "#f0f921"
             ]
            ],
            "type": "histogram2d"
           }
          ],
          "histogram2dcontour": [
           {
            "colorbar": {
             "outlinewidth": 0,
             "ticks": ""
            },
            "colorscale": [
             [
              0,
              "#0d0887"
             ],
             [
              0.1111111111111111,
              "#46039f"
             ],
             [
              0.2222222222222222,
              "#7201a8"
             ],
             [
              0.3333333333333333,
              "#9c179e"
             ],
             [
              0.4444444444444444,
              "#bd3786"
             ],
             [
              0.5555555555555556,
              "#d8576b"
             ],
             [
              0.6666666666666666,
              "#ed7953"
             ],
             [
              0.7777777777777778,
              "#fb9f3a"
             ],
             [
              0.8888888888888888,
              "#fdca26"
             ],
             [
              1,
              "#f0f921"
             ]
            ],
            "type": "histogram2dcontour"
           }
          ],
          "mesh3d": [
           {
            "colorbar": {
             "outlinewidth": 0,
             "ticks": ""
            },
            "type": "mesh3d"
           }
          ],
          "parcoords": [
           {
            "line": {
             "colorbar": {
              "outlinewidth": 0,
              "ticks": ""
             }
            },
            "type": "parcoords"
           }
          ],
          "pie": [
           {
            "automargin": true,
            "type": "pie"
           }
          ],
          "scatter": [
           {
            "fillpattern": {
             "fillmode": "overlay",
             "size": 10,
             "solidity": 0.2
            },
            "type": "scatter"
           }
          ],
          "scatter3d": [
           {
            "line": {
             "colorbar": {
              "outlinewidth": 0,
              "ticks": ""
             }
            },
            "marker": {
             "colorbar": {
              "outlinewidth": 0,
              "ticks": ""
             }
            },
            "type": "scatter3d"
           }
          ],
          "scattercarpet": [
           {
            "marker": {
             "colorbar": {
              "outlinewidth": 0,
              "ticks": ""
             }
            },
            "type": "scattercarpet"
           }
          ],
          "scattergeo": [
           {
            "marker": {
             "colorbar": {
              "outlinewidth": 0,
              "ticks": ""
             }
            },
            "type": "scattergeo"
           }
          ],
          "scattergl": [
           {
            "marker": {
             "colorbar": {
              "outlinewidth": 0,
              "ticks": ""
             }
            },
            "type": "scattergl"
           }
          ],
          "scattermapbox": [
           {
            "marker": {
             "colorbar": {
              "outlinewidth": 0,
              "ticks": ""
             }
            },
            "type": "scattermapbox"
           }
          ],
          "scatterpolar": [
           {
            "marker": {
             "colorbar": {
              "outlinewidth": 0,
              "ticks": ""
             }
            },
            "type": "scatterpolar"
           }
          ],
          "scatterpolargl": [
           {
            "marker": {
             "colorbar": {
              "outlinewidth": 0,
              "ticks": ""
             }
            },
            "type": "scatterpolargl"
           }
          ],
          "scatterternary": [
           {
            "marker": {
             "colorbar": {
              "outlinewidth": 0,
              "ticks": ""
             }
            },
            "type": "scatterternary"
           }
          ],
          "surface": [
           {
            "colorbar": {
             "outlinewidth": 0,
             "ticks": ""
            },
            "colorscale": [
             [
              0,
              "#0d0887"
             ],
             [
              0.1111111111111111,
              "#46039f"
             ],
             [
              0.2222222222222222,
              "#7201a8"
             ],
             [
              0.3333333333333333,
              "#9c179e"
             ],
             [
              0.4444444444444444,
              "#bd3786"
             ],
             [
              0.5555555555555556,
              "#d8576b"
             ],
             [
              0.6666666666666666,
              "#ed7953"
             ],
             [
              0.7777777777777778,
              "#fb9f3a"
             ],
             [
              0.8888888888888888,
              "#fdca26"
             ],
             [
              1,
              "#f0f921"
             ]
            ],
            "type": "surface"
           }
          ],
          "table": [
           {
            "cells": {
             "fill": {
              "color": "#EBF0F8"
             },
             "line": {
              "color": "white"
             }
            },
            "header": {
             "fill": {
              "color": "#C8D4E3"
             },
             "line": {
              "color": "white"
             }
            },
            "type": "table"
           }
          ]
         },
         "layout": {
          "annotationdefaults": {
           "arrowcolor": "#2a3f5f",
           "arrowhead": 0,
           "arrowwidth": 1
          },
          "autotypenumbers": "strict",
          "coloraxis": {
           "colorbar": {
            "outlinewidth": 0,
            "ticks": ""
           }
          },
          "colorscale": {
           "diverging": [
            [
             0,
             "#8e0152"
            ],
            [
             0.1,
             "#c51b7d"
            ],
            [
             0.2,
             "#de77ae"
            ],
            [
             0.3,
             "#f1b6da"
            ],
            [
             0.4,
             "#fde0ef"
            ],
            [
             0.5,
             "#f7f7f7"
            ],
            [
             0.6,
             "#e6f5d0"
            ],
            [
             0.7,
             "#b8e186"
            ],
            [
             0.8,
             "#7fbc41"
            ],
            [
             0.9,
             "#4d9221"
            ],
            [
             1,
             "#276419"
            ]
           ],
           "sequential": [
            [
             0,
             "#0d0887"
            ],
            [
             0.1111111111111111,
             "#46039f"
            ],
            [
             0.2222222222222222,
             "#7201a8"
            ],
            [
             0.3333333333333333,
             "#9c179e"
            ],
            [
             0.4444444444444444,
             "#bd3786"
            ],
            [
             0.5555555555555556,
             "#d8576b"
            ],
            [
             0.6666666666666666,
             "#ed7953"
            ],
            [
             0.7777777777777778,
             "#fb9f3a"
            ],
            [
             0.8888888888888888,
             "#fdca26"
            ],
            [
             1,
             "#f0f921"
            ]
           ],
           "sequentialminus": [
            [
             0,
             "#0d0887"
            ],
            [
             0.1111111111111111,
             "#46039f"
            ],
            [
             0.2222222222222222,
             "#7201a8"
            ],
            [
             0.3333333333333333,
             "#9c179e"
            ],
            [
             0.4444444444444444,
             "#bd3786"
            ],
            [
             0.5555555555555556,
             "#d8576b"
            ],
            [
             0.6666666666666666,
             "#ed7953"
            ],
            [
             0.7777777777777778,
             "#fb9f3a"
            ],
            [
             0.8888888888888888,
             "#fdca26"
            ],
            [
             1,
             "#f0f921"
            ]
           ]
          },
          "colorway": [
           "#636efa",
           "#EF553B",
           "#00cc96",
           "#ab63fa",
           "#FFA15A",
           "#19d3f3",
           "#FF6692",
           "#B6E880",
           "#FF97FF",
           "#FECB52"
          ],
          "font": {
           "color": "#2a3f5f"
          },
          "geo": {
           "bgcolor": "white",
           "lakecolor": "white",
           "landcolor": "white",
           "showlakes": true,
           "showland": true,
           "subunitcolor": "#C8D4E3"
          },
          "hoverlabel": {
           "align": "left"
          },
          "hovermode": "closest",
          "mapbox": {
           "style": "light"
          },
          "paper_bgcolor": "white",
          "plot_bgcolor": "white",
          "polar": {
           "angularaxis": {
            "gridcolor": "#EBF0F8",
            "linecolor": "#EBF0F8",
            "ticks": ""
           },
           "bgcolor": "white",
           "radialaxis": {
            "gridcolor": "#EBF0F8",
            "linecolor": "#EBF0F8",
            "ticks": ""
           }
          },
          "scene": {
           "xaxis": {
            "backgroundcolor": "white",
            "gridcolor": "#DFE8F3",
            "gridwidth": 2,
            "linecolor": "#EBF0F8",
            "showbackground": true,
            "ticks": "",
            "zerolinecolor": "#EBF0F8"
           },
           "yaxis": {
            "backgroundcolor": "white",
            "gridcolor": "#DFE8F3",
            "gridwidth": 2,
            "linecolor": "#EBF0F8",
            "showbackground": true,
            "ticks": "",
            "zerolinecolor": "#EBF0F8"
           },
           "zaxis": {
            "backgroundcolor": "white",
            "gridcolor": "#DFE8F3",
            "gridwidth": 2,
            "linecolor": "#EBF0F8",
            "showbackground": true,
            "ticks": "",
            "zerolinecolor": "#EBF0F8"
           }
          },
          "shapedefaults": {
           "line": {
            "color": "#2a3f5f"
           }
          },
          "ternary": {
           "aaxis": {
            "gridcolor": "#DFE8F3",
            "linecolor": "#A2B1C6",
            "ticks": ""
           },
           "baxis": {
            "gridcolor": "#DFE8F3",
            "linecolor": "#A2B1C6",
            "ticks": ""
           },
           "bgcolor": "white",
           "caxis": {
            "gridcolor": "#DFE8F3",
            "linecolor": "#A2B1C6",
            "ticks": ""
           }
          },
          "title": {
           "x": 0.05
          },
          "xaxis": {
           "automargin": true,
           "gridcolor": "#EBF0F8",
           "linecolor": "#EBF0F8",
           "ticks": "",
           "title": {
            "standoff": 15
           },
           "zerolinecolor": "#EBF0F8",
           "zerolinewidth": 2
          },
          "yaxis": {
           "automargin": true,
           "gridcolor": "#EBF0F8",
           "linecolor": "#EBF0F8",
           "ticks": "",
           "title": {
            "standoff": 15
           },
           "zerolinecolor": "#EBF0F8",
           "zerolinewidth": 2
          }
         }
        },
        "title": {
         "text": "Cumulatively Issued ATOM"
        },
        "xaxis": {
         "anchor": "y",
         "domain": [
          0,
          1
         ],
         "title": {
          "text": "Month"
         }
        },
        "yaxis": {
         "anchor": "x",
         "domain": [
          0,
          1
         ],
         "title": {
          "text": "Value"
         }
        }
       }
      }
     },
     "metadata": {},
     "output_type": "display_data"
    }
   ],
   "source": [
    "# Cumulatively Issued ATOM\n",
    "fig = px.line(df, x='Month', y=['Total Cumulatively Issued ATOM (new)', 'Cumulatively Issued ATOM (old)'],\n",
    "              labels={'value': 'Value', 'variable': 'Category'},\n",
    "              title='Cumulatively Issued ATOM',\n",
    "              template='plotly_white',\n",
    "              line_dash_sequence=['solid', 'dot'])\n",
    "\n",
    "# Show the plot\n",
    "fig.show()\n"
   ]
  }
 ],
 "metadata": {
  "kernelspec": {
   "display_name": "Python 3",
   "language": "python",
   "name": "python3"
  },
  "language_info": {
   "codemirror_mode": {
    "name": "ipython",
    "version": 3
   },
   "file_extension": ".py",
   "mimetype": "text/x-python",
   "name": "python",
   "nbconvert_exporter": "python",
   "pygments_lexer": "ipython3",
   "version": "3.9.6"
  }
 },
 "nbformat": 4,
 "nbformat_minor": 2
}
